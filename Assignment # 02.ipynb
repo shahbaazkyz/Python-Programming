{
 "cells": [
  {
   "cell_type": "code",
   "execution_count": 1,
   "metadata": {},
   "outputs": [
    {
     "name": "stdout",
     "output_type": "stream",
     "text": [
      "Enter Marks of English69\n",
      "Enter Marks of Urdu85\n",
      "Enter Marks of Math88\n",
      "Enter Marks of OOP90\n",
      "Enter Marks of PST77\n",
      "81\n",
      "Your Grade is A\n"
     ]
    }
   ],
   "source": [
    "English = int(input(\"Enter Marks of English\"))\n",
    "Urdu = int(input(\"Enter Marks of Urdu\"))\n",
    "Maths = int(input(\"Enter Marks of Math\"))\n",
    "OOP = int(input(\"Enter Marks of OOP\"))\n",
    "PST = int(input(\"Enter Marks of PST\"))\n",
    "\n",
    "Total_Marks= English + Urdu + Maths + OOP + PST\n",
    "total_marks = 500\n",
    "Percentage = int(Total_Marks / total_marks*100)\n",
    "print(Percentage)\n",
    "\n",
    "if Percentage >= 90 and Percentage <= 100:\n",
    "    print(\"Your Grade is A+\")\n",
    "elif Percentage >=80 and Percentage <=90:\n",
    "    print(\"Your Grade is A\")\n",
    "elif Percentage >=70 and Percentage <=80:\n",
    "    print(\"Your Grade is B\")\n",
    "elif Percentage >=60 and Percentage <=70:\n",
    "    print(\"Your Grade is C\")\n",
    "elif Percentage >=50 and Percentage <=60:\n",
    "    print(\"Your Grade is D\")\n",
    "elif Percentage >=40 and Percentage <=50:\n",
    "    print(\"Your Grade is F\")\n",
    "elif Percentage >=0 and Percentage <=40:\n",
    "    print(\"You Fail\")\n",
    "else:\n",
    "    print(\"You Enter Invalid Percentage\")"
   ]
  },
  {
   "cell_type": "code",
   "execution_count": 2,
   "metadata": {},
   "outputs": [
    {
     "name": "stdout",
     "output_type": "stream",
     "text": [
      "Enter A Number11\n",
      "You Enter an Odd Number\n"
     ]
    }
   ],
   "source": [
    "Number = int(input(\"Enter A Number\"))\n",
    "if Number%2 == 0:\n",
    "    print(\"You Enter an Even Number\")\n",
    "else:\n",
    "    print(\"You Enter an Odd Number\")"
   ]
  },
  {
   "cell_type": "code",
   "execution_count": 4,
   "metadata": {},
   "outputs": [
    {
     "name": "stdout",
     "output_type": "stream",
     "text": [
      "The Length of the List is 9\n"
     ]
    }
   ],
   "source": [
    "Array = [1, 3, 5, 8, 13, 21, 34, 55, 89]\n",
    "print(\"The Length of the List is \"+str(len(Array)))"
   ]
  },
  {
   "cell_type": "code",
   "execution_count": 5,
   "metadata": {},
   "outputs": [
    {
     "name": "stdout",
     "output_type": "stream",
     "text": [
      "Sum of List is 229\n"
     ]
    }
   ],
   "source": [
    "Array = [1, 3, 5, 8, 13, 21, 34, 55, 89]\n",
    "sum = 0\n",
    "\n",
    "for i in Array:\n",
    "    sum += i\n",
    "    \n",
    "print(\"Sum of List is \" +str(sum))"
   ]
  },
  {
   "cell_type": "code",
   "execution_count": 6,
   "metadata": {},
   "outputs": [
    {
     "name": "stdout",
     "output_type": "stream",
     "text": [
      "Largest number from a numeric list is 89\n"
     ]
    }
   ],
   "source": [
    "Array = [3, 5, 8, 13, 21, 34, 55, 89]\n",
    "print(\"Largest number from a numeric list is \" + str(max(Array)))"
   ]
  },
  {
   "cell_type": "code",
   "execution_count": 8,
   "metadata": {},
   "outputs": [
    {
     "name": "stdout",
     "output_type": "stream",
     "text": [
      "1\n",
      "1\n",
      "2\n",
      "3\n",
      "5\n"
     ]
    }
   ],
   "source": [
    "Array = [1, 1, 2, 3, 5, 8, 13, 21, 34, 55, 89]\n",
    "for i in Array:\n",
    "    if i <= 5:\n",
    "        print(i)"
   ]
  },
  {
   "cell_type": "code",
   "execution_count": null,
   "metadata": {},
   "outputs": [],
   "source": []
  }
 ],
 "metadata": {
  "kernelspec": {
   "display_name": "Python 3",
   "language": "python",
   "name": "python3"
  },
  "language_info": {
   "codemirror_mode": {
    "name": "ipython",
    "version": 3
   },
   "file_extension": ".py",
   "mimetype": "text/x-python",
   "name": "python",
   "nbconvert_exporter": "python",
   "pygments_lexer": "ipython3",
   "version": "3.7.4"
  }
 },
 "nbformat": 4,
 "nbformat_minor": 2
}

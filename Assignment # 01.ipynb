{
 "cells": [
  {
   "cell_type": "code",
   "execution_count": 1,
   "metadata": {},
   "outputs": [
    {
     "name": "stdout",
     "output_type": "stream",
     "text": [
      "\n",
      "            Twinkle, twinkle, little star,\n",
      "                    How I wonder what you are!\n",
      "                        Up above the world so high,\n",
      "                        Like a diamond in the sky.\n",
      "            Twinkle, twinkle, little star,\n",
      "                  How I wonder what you are\n"
     ]
    }
   ],
   "source": [
    "sj = \"\"\"\n",
    "            Twinkle, twinkle, little star,\n",
    "                    How I wonder what you are!\n",
    "                        Up above the world so high,\n",
    "                        Like a diamond in the sky.\n",
    "            Twinkle, twinkle, little star,\n",
    "                  How I wonder what you are\"\"\"\n",
    "\n",
    "print(sj)"
   ]
  },
  {
   "cell_type": "code",
   "execution_count": 2,
   "metadata": {},
   "outputs": [
    {
     "name": "stdout",
     "output_type": "stream",
     "text": [
      "3.7.4 (default, Aug  9 2019, 18:34:13) [MSC v.1915 64 bit (AMD64)]\n"
     ]
    }
   ],
   "source": [
    "import sys\n",
    "print (sys.version)"
   ]
  },
  {
   "cell_type": "code",
   "execution_count": 3,
   "metadata": {},
   "outputs": [
    {
     "name": "stdout",
     "output_type": "stream",
     "text": [
      "2019 - 11-22\n",
      "19:19:29\n"
     ]
    }
   ],
   "source": [
    "import datetime\n",
    "now =datetime.datetime.now()\n",
    "print(now.strftime(\"%Y - %m-%d\"))\n",
    "print (now.strftime(\"%H:%M:%S\"))"
   ]
  },
  {
   "cell_type": "code",
   "execution_count": 4,
   "metadata": {},
   "outputs": [
    {
     "name": "stdout",
     "output_type": "stream",
     "text": [
      "Enter Radius:4\n",
      "Radius of 4.0 is 50.26544\n"
     ]
    }
   ],
   "source": [
    "radius = float(input('Enter Radius:'))\n",
    "area = 3.14159 *(radius**2)\n",
    "print ('Radius of '+str(radius)+ ' is '+str(area))"
   ]
  },
  {
   "cell_type": "code",
   "execution_count": 5,
   "metadata": {},
   "outputs": [
    {
     "name": "stdout",
     "output_type": "stream",
     "text": [
      "Enter Your First NameShahbaz\n",
      "Enter Your Last Namekhan\n",
      "khan Shahbaz\n"
     ]
    }
   ],
   "source": [
    "first_name = input('Enter Your First Name')\n",
    "last_name = input('Enter Your Last Name')\n",
    "\n",
    "print(last_name + ' ' + first_name )\n"
   ]
  },
  {
   "cell_type": "code",
   "execution_count": 6,
   "metadata": {},
   "outputs": [
    {
     "name": "stdout",
     "output_type": "stream",
     "text": [
      "Enter your Fisrt Number 10\n",
      "Enter your Second Number 08\n",
      "sum of 10 & 8 is 18\n"
     ]
    }
   ],
   "source": [
    "num1 = int(input(\"Enter your Fisrt Number \")) \n",
    "num2 = int(input(\"Enter your Second Number \")) \n",
    "sum = num1 + num2 \n",
    "print(\"sum of \" + str(num1) + \" & \" +str(num2) +\" is \" + str(sum) )"
   ]
  },
  {
   "cell_type": "code",
   "execution_count": null,
   "metadata": {},
   "outputs": [],
   "source": []
  }
 ],
 "metadata": {
  "kernelspec": {
   "display_name": "Python 3",
   "language": "python",
   "name": "python3"
  },
  "language_info": {
   "codemirror_mode": {
    "name": "ipython",
    "version": 3
   },
   "file_extension": ".py",
   "mimetype": "text/x-python",
   "name": "python",
   "nbconvert_exporter": "python",
   "pygments_lexer": "ipython3",
   "version": "3.7.4"
  }
 },
 "nbformat": 4,
 "nbformat_minor": 2
}
